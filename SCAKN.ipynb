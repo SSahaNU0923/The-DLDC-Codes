{
  "nbformat": 4,
  "nbformat_minor": 0,
  "metadata": {
    "colab": {
      "provenance": []
    },
    "kernelspec": {
      "name": "python3",
      "display_name": "Python 3"
    },
    "language_info": {
      "name": "python"
    },
    "gpuClass": "standard",
    "accelerator": "GPU"
  },
  "cells": [
    {
      "cell_type": "code",
      "source": [
        "!pip install torch-geometric\n",
        "!pip install torch-sparse -f https://data.pyg.org/whl/torch-1.12.1+cu113.html\n",
        "!pip install torch-scatter -f https://data.pyg.org/whl/torch-1.12.1+cu113.html"
      ],
      "metadata": {
        "colab": {
          "base_uri": "https://localhost:8080/"
        },
        "id": "I1Q0OQRTlB4q",
        "outputId": "38eeb0e1-c928-4c47-8306-71636d7424de"
      },
      "execution_count": 1,
      "outputs": [
        {
          "output_type": "stream",
          "name": "stdout",
          "text": [
            "Looking in indexes: https://pypi.org/simple, https://us-python.pkg.dev/colab-wheels/public/simple/\n",
            "Collecting torch-geometric\n",
            "  Downloading torch_geometric-2.1.0.post1.tar.gz (467 kB)\n",
            "\u001b[K     |████████████████████████████████| 467 kB 15.6 MB/s \n",
            "\u001b[?25hRequirement already satisfied: tqdm in /usr/local/lib/python3.7/dist-packages (from torch-geometric) (4.64.1)\n",
            "Requirement already satisfied: numpy in /usr/local/lib/python3.7/dist-packages (from torch-geometric) (1.21.6)\n",
            "Requirement already satisfied: scipy in /usr/local/lib/python3.7/dist-packages (from torch-geometric) (1.7.3)\n",
            "Requirement already satisfied: jinja2 in /usr/local/lib/python3.7/dist-packages (from torch-geometric) (2.11.3)\n",
            "Requirement already satisfied: requests in /usr/local/lib/python3.7/dist-packages (from torch-geometric) (2.23.0)\n",
            "Requirement already satisfied: pyparsing in /usr/local/lib/python3.7/dist-packages (from torch-geometric) (3.0.9)\n",
            "Requirement already satisfied: scikit-learn in /usr/local/lib/python3.7/dist-packages (from torch-geometric) (1.0.2)\n",
            "Requirement already satisfied: MarkupSafe>=0.23 in /usr/local/lib/python3.7/dist-packages (from jinja2->torch-geometric) (2.0.1)\n",
            "Requirement already satisfied: idna<3,>=2.5 in /usr/local/lib/python3.7/dist-packages (from requests->torch-geometric) (2.10)\n",
            "Requirement already satisfied: urllib3!=1.25.0,!=1.25.1,<1.26,>=1.21.1 in /usr/local/lib/python3.7/dist-packages (from requests->torch-geometric) (1.24.3)\n",
            "Requirement already satisfied: certifi>=2017.4.17 in /usr/local/lib/python3.7/dist-packages (from requests->torch-geometric) (2022.9.24)\n",
            "Requirement already satisfied: chardet<4,>=3.0.2 in /usr/local/lib/python3.7/dist-packages (from requests->torch-geometric) (3.0.4)\n",
            "Requirement already satisfied: threadpoolctl>=2.0.0 in /usr/local/lib/python3.7/dist-packages (from scikit-learn->torch-geometric) (3.1.0)\n",
            "Requirement already satisfied: joblib>=0.11 in /usr/local/lib/python3.7/dist-packages (from scikit-learn->torch-geometric) (1.2.0)\n",
            "Building wheels for collected packages: torch-geometric\n",
            "  Building wheel for torch-geometric (setup.py) ... \u001b[?25l\u001b[?25hdone\n",
            "  Created wheel for torch-geometric: filename=torch_geometric-2.1.0.post1-py3-none-any.whl size=689859 sha256=c26f9ca35e9cedd93fc55a39956eec86f283408ea9637c721d0b58d3ec49fe1f\n",
            "  Stored in directory: /root/.cache/pip/wheels/d1/cb/43/f7f2e472de4d7cff31bceddadc36d634e1e545fbc17961c282\n",
            "Successfully built torch-geometric\n",
            "Installing collected packages: torch-geometric\n",
            "Successfully installed torch-geometric-2.1.0.post1\n",
            "Looking in indexes: https://pypi.org/simple, https://us-python.pkg.dev/colab-wheels/public/simple/\n",
            "Looking in links: https://data.pyg.org/whl/torch-1.12.1+cu113.html\n",
            "Collecting torch-sparse\n",
            "  Downloading https://data.pyg.org/whl/torch-1.12.0%2Bcu113/torch_sparse-0.6.15-cp37-cp37m-linux_x86_64.whl (3.5 MB)\n",
            "\u001b[K     |████████████████████████████████| 3.5 MB 14.9 MB/s \n",
            "\u001b[?25hRequirement already satisfied: scipy in /usr/local/lib/python3.7/dist-packages (from torch-sparse) (1.7.3)\n",
            "Requirement already satisfied: numpy<1.23.0,>=1.16.5 in /usr/local/lib/python3.7/dist-packages (from scipy->torch-sparse) (1.21.6)\n",
            "Installing collected packages: torch-sparse\n",
            "Successfully installed torch-sparse-0.6.15\n",
            "Looking in indexes: https://pypi.org/simple, https://us-python.pkg.dev/colab-wheels/public/simple/\n",
            "Looking in links: https://data.pyg.org/whl/torch-1.12.1+cu113.html\n",
            "Collecting torch-scatter\n",
            "  Downloading https://data.pyg.org/whl/torch-1.12.0%2Bcu113/torch_scatter-2.0.9-cp37-cp37m-linux_x86_64.whl (7.9 MB)\n",
            "\u001b[K     |████████████████████████████████| 7.9 MB 11.1 MB/s \n",
            "\u001b[?25hInstalling collected packages: torch-scatter\n",
            "Successfully installed torch-scatter-2.0.9\n"
          ]
        }
      ]
    },
    {
      "cell_type": "code",
      "execution_count": 3,
      "metadata": {
        "id": "kBPwQbBJkyK_"
      },
      "outputs": [],
      "source": [
        "import torch\n",
        "import numpy as np\n",
        "\n",
        "import torch.nn.functional as F\n",
        "import torch.nn as nn\n",
        "\n",
        "from torch_geometric.data import Data, DataLoader\n",
        "import matplotlib.pyplot as plt\n",
        "from utilities import *\n",
        "from nn_conv import NNConv, NNConv_old\n",
        "\n",
        "from timeit import default_timer\n",
        "import scipy.io\n",
        "\n",
        "from SCA1D import *"
      ]
    },
    {
      "cell_type": "code",
      "source": [
        "class SCA_data():\n",
        "    def generator():\n",
        "        data=[]\n",
        "        cluster_num = np.arange(6, 129, 4)\n",
        "        strain_list = [0.1]\n",
        "        for i in cluster_num:\n",
        "            for j in strain_list:\n",
        "                sca = SCA1D(i,j)\n",
        "                result = sca.SCA_data()\n",
        "                data.append(result)\n",
        "        return data\n",
        "    def generator1():\n",
        "        data=[]\n",
        "        cluster_num = [300]\n",
        "        strain_list = [0.1, 0.2, 0.3]\n",
        "        for i in cluster_num:\n",
        "            for j in strain_list:\n",
        "                sca = SCA1D(i,j)\n",
        "                result = sca.SCA_data()\n",
        "                data.append(result)\n",
        "        return data\n",
        "    def normalizer(data):\n",
        "        for j in range(len(data)):\n",
        "            data[j][1,:] = data[j][1,:]/max(data[j][1,:])\n",
        "            data[j][2,:] = (data[j][2,:] - min(data[j][2,:]))/(max(data[j][2,:])- min(data[j][2,:]))\n",
        "        return data\n",
        "class SCAMeshGenerator():\n",
        "    def __init__(self, grid, input, output):\n",
        "        self.grid = grid.reshape(-1,1)\n",
        "        self.input = input\n",
        "        self.output = output\n",
        "        self.d  = 1\n",
        "    \n",
        "    def get_grid(self):\n",
        "        return torch.tensor(self.grid, dtype=torch.float)\n",
        "\n",
        "    def get_input(self):\n",
        "        return torch.tensor(self.input, dtype=torch.float)\n",
        "\n",
        "    def get_output(self):\n",
        "        return torch.tensor(self.output, dtype=torch.float)\n",
        "\n",
        "    def ball_connectivity(self, r):\n",
        "        pwd = sklearn.metrics.pairwise_distances(self.grid)\n",
        "        self.edge_index = np.vstack(np.where(pwd <= r))\n",
        "        self.n_edges = self.edge_index.shape[1]\n",
        "\n",
        "        return torch.tensor(self.edge_index, dtype=torch.long)\n",
        "\n",
        "    def gaussian_connectivity(self, sigma):\n",
        "        pwd = sklearn.metrics.pairwise_distances(self.grid)\n",
        "        rbf = np.exp(-pwd**2/sigma**2)\n",
        "        sample = np.random.binomial(1,rbf)\n",
        "        self.edge_index = np.vstack(np.where(sample))\n",
        "        self.n_edges = self.edge_index.shape[1]\n",
        "        return torch.tensor(self.edge_index, dtype=torch.long)\n",
        "\n",
        "\n",
        "    def attributes(self, f=None, theta=None):\n",
        "        if f is None:\n",
        "            if theta is None:\n",
        "                edge_attr = self.grid[self.edge_index.T].reshape((self.n_edges,-1))\n",
        "            else:\n",
        "                edge_attr = np.zeros((self.n_edges, 2*self.d+2))\n",
        "                edge_attr[:,0:2*self.d] = self.grid[self.edge_index.T].reshape((self.n_edges,-1))\n",
        "                edge_attr[:, 2 * self.d] = theta[self.edge_index[0]]\n",
        "                edge_attr[:, 2 * self.d +1] = theta[self.edge_index[1]]\n",
        "        else:\n",
        "            xy = self.grid[self.edge_index.T].reshape((self.n_edges,-1))\n",
        "            if theta is None:\n",
        "                edge_attr = f(xy[:,0:self.d], xy[:,self.d:])\n",
        "            else:\n",
        "                edge_attr = f(xy[:,0:self.d], xy[:,self.d:], theta[self.edge_index[0]], theta[self.edge_index[1]])\n",
        "\n",
        "        return torch.tensor(edge_attr, dtype=torch.float)"
      ],
      "metadata": {
        "id": "gQsgHMINFxLv"
      },
      "execution_count": 122,
      "outputs": []
    },
    {
      "cell_type": "code",
      "source": [
        "data = SCA_data.generator()\n",
        "\n",
        "data = SCA_data.normalizer(data)"
      ],
      "metadata": {
        "id": "NRak7CjNJTIZ"
      },
      "execution_count": 58,
      "outputs": []
    },
    {
      "cell_type": "code",
      "source": [
        "class KernelNN(torch.nn.Module):\n",
        "    def __init__(self, width, ker_width, depth, ker_in, in_width=1, out_width=1):\n",
        "        super(KernelNN, self).__init__()\n",
        "        self.depth = depth\n",
        "\n",
        "        self.fc1 = torch.nn.Linear(in_width, width)\n",
        "\n",
        "        kernel = DenseNet([ker_in, ker_width//2, ker_width, width**2], torch.nn.ReLU)\n",
        "        self.conv1 = NNConv_old(width, width, kernel, aggr='mean')\n",
        "\n",
        "        self.fc2 = torch.nn.Linear(width, ker_width)\n",
        "        self.fc3 = torch.nn.Linear(ker_width, 1)\n",
        "\n",
        "    def forward(self, data):\n",
        "        x, edge_index, edge_attr = data.x, data.edge_index, data.edge_attr\n",
        "        x = self.fc1(x)\n",
        "        for k in range(self.depth):\n",
        "            x = self.conv1(x, edge_index, edge_attr)\n",
        "            if k != self.depth-1:\n",
        "                x = F.relu(x)\n",
        "\n",
        "        x = self.fc2(x)\n",
        "        x = F.relu(x)\n",
        "        x = self.fc3(x)\n",
        "        return x\n"
      ],
      "metadata": {
        "id": "65f1NIIBk8GZ"
      },
      "execution_count": 6,
      "outputs": []
    },
    {
      "cell_type": "code",
      "source": [
        "len(data)"
      ],
      "metadata": {
        "colab": {
          "base_uri": "https://localhost:8080/"
        },
        "id": "mOBNcGWWEN4c",
        "outputId": "a55180e2-984c-44e3-f050-2bfec52cb809"
      },
      "execution_count": 59,
      "outputs": [
        {
          "output_type": "execute_result",
          "data": {
            "text/plain": [
              "30"
            ]
          },
          "metadata": {},
          "execution_count": 59
        }
      ]
    },
    {
      "cell_type": "code",
      "source": [
        "ntrain = 25\n",
        "ntest = 5\n",
        "\n",
        "\n",
        "\n",
        "t1 = default_timer()\n",
        "batch_size  = 1 # factor of ntrain * k\n",
        "batch_size2 = 1 # factor of test_split\n",
        "\n",
        "radius_train = 3\n",
        "radius_test = 3\n",
        "# rbf_sigma = 0.2\n",
        "\n"
      ],
      "metadata": {
        "id": "VTLUFI5Uns-N"
      },
      "execution_count": 61,
      "outputs": []
    },
    {
      "cell_type": "code",
      "source": [
        "width = 50\n",
        "ker_width = 500\n",
        "depth = 5\n",
        "edge_features = 4\n",
        "node_features = 2\n",
        "\n",
        "epochs = 101\n",
        "learning_rate = 0.0001\n",
        "scheduler_step = 10\n",
        "scheduler_gamma = 0.85"
      ],
      "metadata": {
        "id": "lcqmkpcBnuSB"
      },
      "execution_count": 62,
      "outputs": []
    },
    {
      "cell_type": "code",
      "source": [
        "data_train=[]\n",
        "index = []\n",
        "for i in range(ntrain):\n",
        "    j = np.random.randint(1,len(data))\n",
        "    grid = data[j][0,:]\n",
        "    input = data[j][1,:]\n",
        "    output = data[j][2,:]\n",
        "    index.append(j)\n",
        "    meshgenerator = SCAMeshGenerator(grid, input, output)\n",
        "    grid = meshgenerator.get_grid()\n",
        "    input = meshgenerator.get_input()\n",
        "    output = meshgenerator.get_output()\n",
        "\n",
        "    edge_index = meshgenerator.ball_connectivity(2)\n",
        "    print(grid.size())\n",
        "    print(edge_index.size())\n",
        "\n",
        "    edge_attr = meshgenerator.attributes(theta = input)\n",
        "    print(edge_attr.size())\n",
        "    # data_train.append(Data(x=init_point.clone().view(-1,1), y=train_y[j,:], edge_index=edge_index, edge_attr=edge_attr))\n",
        "    data_train.append(Data(x=torch.cat([grid.reshape(-1, 1), input.reshape(-1, 1)], dim=1),y=output, edge_index=edge_index, edge_attr=edge_attr))\n",
        "\n",
        "train_loader = DataLoader(data_train, batch_size=batch_size, shuffle=True)"
      ],
      "metadata": {
        "colab": {
          "base_uri": "https://localhost:8080/"
        },
        "id": "7j2s3svlvDcc",
        "outputId": "6643f5a8-8a41-43f2-854f-2e16f0f4fc33"
      },
      "execution_count": 63,
      "outputs": [
        {
          "output_type": "stream",
          "name": "stdout",
          "text": [
            "torch.Size([54, 1])\n",
            "torch.Size([2, 1024])\n",
            "torch.Size([1024, 4])\n",
            "torch.Size([46, 1])\n",
            "torch.Size([2, 784])\n",
            "torch.Size([784, 4])\n",
            "torch.Size([54, 1])\n",
            "torch.Size([2, 1024])\n",
            "torch.Size([1024, 4])\n",
            "torch.Size([34, 1])\n",
            "torch.Size([2, 400])\n",
            "torch.Size([400, 4])\n",
            "torch.Size([122, 1])\n",
            "torch.Size([2, 5378])\n",
            "torch.Size([5378, 4])\n",
            "torch.Size([18, 1])\n",
            "torch.Size([2, 114])\n",
            "torch.Size([114, 4])\n",
            "torch.Size([122, 1])\n",
            "torch.Size([2, 5378])\n",
            "torch.Size([5378, 4])\n",
            "torch.Size([38, 1])\n",
            "torch.Size([2, 514])\n",
            "torch.Size([514, 4])\n",
            "torch.Size([62, 1])\n",
            "torch.Size([2, 1394])\n",
            "torch.Size([1394, 4])\n",
            "torch.Size([122, 1])\n",
            "torch.Size([2, 5378])\n",
            "torch.Size([5378, 4])\n",
            "torch.Size([90, 1])\n",
            "torch.Size([2, 2959])\n",
            "torch.Size([2959, 4])\n",
            "torch.Size([118, 1])\n",
            "torch.Size([2, 4994])\n",
            "torch.Size([4994, 4])\n",
            "torch.Size([18, 1])\n",
            "torch.Size([2, 114])\n",
            "torch.Size([114, 4])\n",
            "torch.Size([54, 1])\n",
            "torch.Size([2, 1024])\n",
            "torch.Size([1024, 4])\n",
            "torch.Size([34, 1])\n",
            "torch.Size([2, 400])\n",
            "torch.Size([400, 4])\n",
            "torch.Size([114, 1])\n",
            "torch.Size([2, 4624])\n",
            "torch.Size([4624, 4])\n",
            "torch.Size([118, 1])\n",
            "torch.Size([2, 4994])\n",
            "torch.Size([4994, 4])\n",
            "torch.Size([74, 1])\n",
            "torch.Size([2, 1936])\n",
            "torch.Size([1936, 4])\n",
            "torch.Size([42, 1])\n",
            "torch.Size([2, 642])\n",
            "torch.Size([642, 4])\n",
            "torch.Size([70, 1])\n",
            "torch.Size([2, 1803])\n",
            "torch.Size([1803, 4])\n",
            "torch.Size([126, 1])\n",
            "torch.Size([2, 5776])\n",
            "torch.Size([5776, 4])\n",
            "torch.Size([118, 1])\n",
            "torch.Size([2, 4994])\n",
            "torch.Size([4994, 4])\n",
            "torch.Size([66, 1])\n",
            "torch.Size([2, 1600])\n",
            "torch.Size([1600, 4])\n",
            "torch.Size([42, 1])\n",
            "torch.Size([2, 642])\n",
            "torch.Size([642, 4])\n",
            "torch.Size([70, 1])\n",
            "torch.Size([2, 1803])\n",
            "torch.Size([1803, 4])\n"
          ]
        },
        {
          "output_type": "stream",
          "name": "stderr",
          "text": [
            "/usr/local/lib/python3.7/dist-packages/torch_geometric/deprecation.py:12: UserWarning: 'data.DataLoader' is deprecated, use 'loader.DataLoader' instead\n",
            "  warnings.warn(out)\n"
          ]
        }
      ]
    },
    {
      "cell_type": "code",
      "source": [
        "data_test = []\n",
        "index_test = []\n",
        "for j in range(len(data)):\n",
        "    if j not in index:\n",
        "        grid = data[j][0,:]\n",
        "        input = data[j][1,:]\n",
        "        output = data[j][2,:]\n",
        "        index_test.append(j)\n",
        "        meshgenerator = SCAMeshGenerator(grid, input, output)\n",
        "        grid = meshgenerator.get_grid()\n",
        "        input = meshgenerator.get_input()\n",
        "        output = meshgenerator.get_output()\n",
        "\n",
        "        edge_index = meshgenerator.ball_connectivity(2)\n",
        "        print(edge_index.size())\n",
        "\n",
        "        edge_attr = meshgenerator.attributes(theta = input)\n",
        "        print(edge_attr.size())\n",
        "        # data_train.append(Data(x=init_point.clone().view(-1,1), y=train_y[j,:], edge_index=edge_index, edge_attr=edge_attr))\n",
        "        data_test.append(Data(x=torch.cat([grid.reshape(-1, 1), input.reshape(-1, 1)], dim=1), y=output, edge_index=edge_index, edge_attr=edge_attr))\n",
        "\n",
        "test_loader = DataLoader(data_test, batch_size=batch_size, shuffle=True)"
      ],
      "metadata": {
        "colab": {
          "base_uri": "https://localhost:8080/"
        },
        "id": "8bA0qRcbn310",
        "outputId": "c752779a-e484-4e15-cf6b-2bd18d870fed"
      },
      "execution_count": 64,
      "outputs": [
        {
          "output_type": "stream",
          "name": "stdout",
          "text": [
            "torch.Size([2, 44])\n",
            "torch.Size([44, 4])\n",
            "torch.Size([2, 64])\n",
            "torch.Size([64, 4])\n",
            "torch.Size([2, 178])\n",
            "torch.Size([178, 4])\n",
            "torch.Size([2, 256])\n",
            "torch.Size([256, 4])\n",
            "torch.Size([2, 342])\n",
            "torch.Size([342, 4])\n",
            "torch.Size([2, 923])\n",
            "torch.Size([923, 4])\n",
            "torch.Size([2, 1202])\n",
            "torch.Size([1202, 4])\n",
            "torch.Size([2, 2178])\n",
            "torch.Size([2178, 4])\n",
            "torch.Size([2, 2434])\n",
            "torch.Size([2434, 4])\n",
            "torch.Size([2, 2704])\n",
            "torch.Size([2704, 4])\n",
            "torch.Size([2, 3136])\n",
            "torch.Size([3136, 4])\n",
            "torch.Size([2, 3442])\n",
            "torch.Size([3442, 4])\n",
            "torch.Size([2, 3762])\n",
            "torch.Size([3762, 4])\n",
            "torch.Size([2, 4096])\n",
            "torch.Size([4096, 4])\n",
            "torch.Size([2, 4396])\n",
            "torch.Size([4396, 4])\n"
          ]
        },
        {
          "output_type": "stream",
          "name": "stderr",
          "text": [
            "/usr/local/lib/python3.7/dist-packages/torch_geometric/deprecation.py:12: UserWarning: 'data.DataLoader' is deprecated, use 'loader.DataLoader' instead\n",
            "  warnings.warn(out)\n"
          ]
        }
      ]
    },
    {
      "cell_type": "code",
      "source": [
        "##################################################################################################\n",
        "\n",
        "### training\n",
        "\n",
        "##################################################################################################\n",
        "t2 = default_timer()\n",
        "\n",
        "print('preprocessing finished, time used:', t2-t1)\n",
        "device = torch.device('cuda')\n",
        "\n",
        "model = KernelNN(width,ker_width,depth,edge_features,node_features).cuda()\n",
        "\n",
        "optimizer = torch.optim.Adam(model.parameters(), lr=learning_rate, weight_decay=5e-4)\n",
        "scheduler = torch.optim.lr_scheduler.StepLR(optimizer, step_size=scheduler_step, gamma=scheduler_gamma)\n",
        "\n",
        "myloss = LpLoss(size_average=False)"
      ],
      "metadata": {
        "colab": {
          "base_uri": "https://localhost:8080/"
        },
        "id": "dwfPJ1jFoC2u",
        "outputId": "0646d6d2-6a37-4d91-d4e8-8f1649963018"
      },
      "execution_count": 65,
      "outputs": [
        {
          "output_type": "stream",
          "name": "stdout",
          "text": [
            "preprocessing finished, time used: 9.2576778990001\n"
          ]
        }
      ]
    },
    {
      "cell_type": "code",
      "source": [
        "ttrain = np.zeros((epochs, ))\n",
        "ttest = np.zeros((epochs,))\n",
        "for ep in range(epochs):\n",
        "    #u_normalizer.cuda()\n",
        "    model.train()\n",
        "    t1 = default_timer()\n",
        "    train_mse = 0.0\n",
        "    train_l2 = 0.0\n",
        "    for batch in train_loader:\n",
        "        batch = batch.to(device)\n",
        "\n",
        "        optimizer.zero_grad()\n",
        "        out = model(batch)\n",
        "        mse = F.mse_loss(out.view(-1, 1), batch.y.view(-1,1))\n",
        "        # mse.backward()\n",
        "        loss = torch.norm(out.view(-1) - batch.y.view(-1),1)\n",
        "        loss.backward()\n",
        "\n",
        "        l2 = myloss(out.view(batch_size, -1), batch.y.view(batch_size, -1))\n",
        "        # l2.backward()\n",
        "\n",
        "        optimizer.step()\n",
        "        train_mse += mse.item()\n",
        "        train_l2 += l2.item()\n",
        "\n",
        "    ttrain[ep] = train_l2 /ntrain\n",
        "    scheduler.step()\n",
        "    t2 = default_timer()\n",
        "\n",
        "\n",
        "    print(ep, t2-t1, train_mse/len(train_loader), train_l2 / ntrain)\n",
        "\n",
        "    if ep % 1 == 0:\n",
        "        model.eval()\n",
        "        test_l2 = 0.0\n",
        "        with torch.no_grad():\n",
        "\n",
        "              for batch in test_loader:\n",
        "                  batch = batch.to(device)\n",
        "                  out = model(batch).view(batch_size, -1).detach().cpu()\n",
        "                  pred = batch.y.view(batch_size, -1).cpu()\n",
        "                  test_l2 += myloss(out, pred).item()\n",
        "\n",
        "\n",
        "              \n",
        "\n",
        "        t3 = default_timer()\n",
        "        ttest[ep] = test_l2 /ntest\n",
        "        print(ep, t3-t2, test_l2/ntest)\n"
      ],
      "metadata": {
        "colab": {
          "base_uri": "https://localhost:8080/"
        },
        "id": "II-s5on0zOd-",
        "outputId": "835c200d-ee4d-473a-e240-080ea9752c5a"
      },
      "execution_count": 66,
      "outputs": [
        {
          "output_type": "stream",
          "name": "stdout",
          "text": [
            "0 0.8499398180001663 3876.2857744026182 82.03244297027588\n",
            "0 0.1548848329998691 64.21813507080078\n",
            "1 0.7806041419999019 9.297049771547318 4.8609567904472355\n",
            "1 0.1594249290001244 2.2798218727111816\n",
            "2 0.7754643220000617 0.0832662345515564 0.5562217971682548\n",
            "2 0.15980779299979986 2.992772698402405\n",
            "3 0.7740890239997498 0.06198246341431513 0.4945054551959038\n",
            "3 0.1592909480000344 2.031213480234146\n",
            "4 0.7841107730000658 0.04978452289476991 0.417910518348217\n",
            "4 0.15791115999991234 1.1816347301006318\n",
            "5 0.7810388870002498 0.034956425242125985 0.3534917947649956\n",
            "5 0.15370452399974965 0.1900354541838169\n",
            "6 0.781684456000221 0.09796753297327086 0.56796781539917\n",
            "6 0.15661446400008572 1.141781610250473\n",
            "7 0.7863128529997994 0.03935843275859952 0.35209464102983473\n",
            "7 0.15605083499985994 0.5965583562850952\n",
            "8 0.7826091259998975 0.019107034280896187 0.2704702436923981\n",
            "8 0.16080737800029965 0.6684801980853081\n",
            "9 0.7889709690002746 0.01566108356579207 0.23807051807641982\n",
            "9 0.15685871300001963 0.7195175617933274\n",
            "10 0.7834374349999962 0.01226162164239213 0.17733258113265038\n",
            "10 0.157108313000208 0.7895277082920075\n",
            "11 0.7871007970002211 0.004673464481020346 0.13650626093149185\n",
            "11 0.1550377399998979 0.762334480881691\n",
            "12 0.7849149849998867 0.004824865257833153 0.1430489367246628\n",
            "12 0.15931318000002648 0.26646456569433213\n",
            "13 0.783527925999806 0.004209298486821353 0.13776881545782088\n",
            "13 0.16191724400005114 0.27563355565071107\n",
            "14 0.7963912459999847 0.056182264380622654 0.41334982693195343\n",
            "14 0.16622302399991895 0.6893668413162232\n",
            "15 0.7877354570000534 0.012450530744390563 0.21426303163170815\n",
            "15 0.1555230680000932 0.9985840767621994\n",
            "16 0.7985611600001903 0.0044124501477926965 0.12945399835705756\n",
            "16 0.15772122699991087 0.7189578995108604\n",
            "17 0.7894441510002252 0.016207246997510083 0.23553674720227719\n",
            "17 0.1563848920000055 1.6372769117355346\n",
            "18 0.7879270849998647 0.02365709240781143 0.2646194489300251\n",
            "18 0.16127864300005967 1.132303024828434\n",
            "19 0.7842410089997429 0.016390953660011292 0.23780101001262666\n",
            "19 0.16084339100007128 1.0593342572450637\n",
            "20 0.7886509290001413 0.023293454742524772 0.31109809800982474\n",
            "20 0.15678354299961939 1.3021250188350677\n",
            "21 0.7978951009999946 0.008534954516217113 0.18704169303178786\n",
            "21 0.16268273699961355 0.42137768119573593\n",
            "22 0.7882608820000314 0.0023039044177858158 0.0967242681980133\n",
            "22 0.15995647500039922 0.4244696438312531\n",
            "23 0.7929212710000684 0.007405465238261968 0.15641873016953467\n",
            "23 0.16317226999990453 0.9951684772968292\n",
            "24 0.7926305490000232 0.004014514015289024 0.11807686761021614\n",
            "24 0.1636612590000368 0.15627868585288524\n",
            "25 0.7932382600001802 0.003260180311044678 0.10955990225076676\n",
            "25 0.16119379199972173 0.8558669835329056\n",
            "26 0.8023688230000516 0.008209278469439595 0.1727890419960022\n",
            "26 0.16245210499982932 0.54012910425663\n",
            "27 0.7970071409999946 0.015222451153676956 0.23725206330418586\n",
            "27 0.15886560599983568 0.9046689480543136\n",
            "28 0.801341278000109 0.005879119602032006 0.13564045734703542\n",
            "28 0.1654612070001349 0.14395372979342938\n",
            "29 0.796420358999967 0.0010147395971580409 0.058480359613895416\n",
            "29 0.1624280250002812 0.13779146820306779\n",
            "30 0.792585304000113 0.0025353038184402978 0.09434055320918561\n",
            "30 0.15802097499999945 0.44756013005971906\n",
            "31 0.7973309620001601 0.004859670529258437 0.13319225825369357\n",
            "31 0.16151239999999234 0.21050534173846244\n",
            "32 0.7953158059999623 0.004856172961881384 0.13589346468448638\n",
            "32 0.15785760500011747 0.340400031208992\n",
            "33 0.8118688650001786 0.0014968975848751143 0.07618616610765457\n",
            "33 0.17656046599995534 0.155838917568326\n",
            "34 0.8266059340003267 0.0010728583909804 0.063220139965415\n",
            "34 0.18396333700002288 0.42937024831771853\n",
            "35 0.8301276800002597 0.0034750432849978098 0.11925299242138862\n",
            "35 0.18053922199987937 0.5708580911159515\n",
            "36 0.8338986300000215 0.008599299551569857 0.18596186012029647\n",
            "36 0.18532360699964556 0.5727389544248581\n",
            "37 0.831075391000013 0.0015574981443933211 0.07711878031492234\n",
            "37 0.16242088200033322 0.1807329598814249\n",
            "38 0.8028079830000934 0.005026565750304144 0.1432175013422966\n",
            "38 0.16068879999966157 0.6998496353626251\n",
            "39 0.7999379309999313 0.002011076700509875 0.08310566660016776\n",
            "39 0.166881961999934 0.3705445721745491\n",
            "40 0.8080503470000622 0.0010352133997366764 0.06290559612214565\n",
            "40 0.16274361400019188 0.22284579277038574\n",
            "41 0.8078357360000155 0.0012594465544680134 0.069785987585783\n",
            "41 0.1594394660000944 0.31652229800820353\n",
            "42 0.7998033320000104 0.0033211348627810366 0.10762730933725834\n",
            "42 0.1634184819999973 0.26000720262527466\n",
            "43 0.7985217830000693 0.0012810075201559812 0.07118856117129325\n",
            "43 0.16390318999992814 0.1206340204924345\n",
            "44 0.7957521319999614 0.0018696548201842234 0.08406159512698651\n",
            "44 0.1607557860002089 0.14530314691364765\n",
            "45 0.800222438000219 0.0003137119335588068 0.03719345599412918\n",
            "45 0.15874222899992674 0.15268542245030403\n",
            "46 0.8027327599997989 0.001497072539641522 0.07335495010018349\n",
            "46 0.156410778999998 0.5616457164287567\n",
            "47 0.7980097839999871 0.0024789933188003486 0.09281117044389248\n",
            "47 0.1591196710000986 0.2827559322118759\n",
            "48 0.799461607000012 0.00715914971078746 0.15852029651403426\n",
            "48 0.15636217899964322 0.3502282083034515\n",
            "49 0.7925514789999397 0.007561127105145715 0.16581260532140732\n",
            "49 0.159221855999931 0.13269503228366375\n",
            "50 0.7995399430001271 0.0005607142750523053 0.046524845585227015\n",
            "50 0.16192665200014744 0.12940239161252975\n",
            "51 0.7933135680000305 0.0008894016766862478 0.062294820323586464\n",
            "51 0.16345639300016046 0.16497754268348216\n",
            "52 0.7947694429999501 0.0017446524207480251 0.08235972255468368\n",
            "52 0.15666206800005966 0.2941252216696739\n",
            "53 0.7994382789997871 0.00115176304243505 0.06884257443249225\n",
            "53 0.15848119500014946 0.27374751046299933\n",
            "54 0.7928941440000017 0.0011011886174674146 0.06118411585688591\n",
            "54 0.16238471399992704 0.1921561785042286\n",
            "55 0.7949968909997551 0.0008748176021617837 0.057645042836666105\n",
            "55 0.16268420900041747 0.20426535978913307\n",
            "56 0.7965631860001849 0.0003947731338848826 0.03964564293622971\n",
            "56 0.15956762699988758 0.1437607727944851\n",
            "57 0.7976879649995681 0.0012528719141846523 0.06917553633451462\n",
            "57 0.15441425600010916 0.19755590334534645\n",
            "58 0.7984607500002312 0.000701805661083199 0.05381139941513538\n",
            "58 0.15914027600001646 0.312553321570158\n",
            "59 0.7959051329999056 0.0014485723990947008 0.07655953980982304\n",
            "59 0.16033990200003245 0.46616278886795043\n",
            "60 0.7936047870002767 0.0008678004956163931 0.05503054600208998\n",
            "60 0.16260793699984788 0.11756333727389574\n",
            "61 0.786429641000268 0.0024554529335000554 0.09358362533152104\n",
            "61 0.15718122599992057 0.19817270189523697\n",
            "62 0.7890552920002847 0.0012562441354384646 0.07114133477210999\n",
            "62 0.16062089799970636 0.2894201293587685\n",
            "63 0.7837097440001344 0.0017749941942747682 0.083715910166502\n",
            "63 0.15960037600007126 0.3021891936659813\n",
            "64 0.7835913339999934 0.0007506778225069865 0.05576330848038197\n",
            "64 0.15926418199978798 0.16263892501592636\n",
            "65 0.7902143609999257 0.0009026561767677777 0.05825275346636772\n",
            "65 0.16161382100017363 0.14155365526676178\n",
            "66 0.7852167799997005 0.0008430430351290852 0.05878317706286907\n",
            "66 0.1594892770003753 0.1758856438100338\n",
            "67 0.7906550399998196 0.0006381209930987098 0.05219488874077797\n",
            "67 0.16428916600034427 0.11601840741932393\n",
            "68 0.7906474660003369 0.00032851421710802244 0.03606227308511734\n",
            "68 0.1593963369996345 0.1128057349473238\n",
            "69 0.7908659200002148 0.0008400575362611562 0.05895425193011761\n",
            "69 0.1614203629997064 0.18095124438405036\n",
            "70 0.7808642429999963 0.00045126042794436217 0.04454938896000385\n",
            "70 0.1623612069997762 0.1719834215939045\n",
            "71 0.8012022319999232 0.00047608967928681523 0.04615912511944771\n",
            "71 0.15990656200028752 0.1402982458472252\n",
            "72 0.7921685129999787 0.0008525192691013217 0.058077737987041474\n",
            "72 0.15874958299991704 0.13177500888705254\n",
            "73 0.7813828719999947 0.000951641294232104 0.060026917159557346\n",
            "73 0.16101902700029314 0.2595079682767391\n",
            "74 0.7814202619997559 0.0013609334037755615 0.07264935284852982\n",
            "74 0.15939572200022667 0.14105583131313323\n",
            "75 0.7849188109998977 0.0008875344102852978 0.06055832341313362\n",
            "75 0.1573998250000841 0.3201588667929173\n",
            "76 0.7834508860000824 0.0014923206315143034 0.07739364370703697\n",
            "76 0.16281005900009404 0.11557750403881073\n",
            "77 0.7925660640003116 0.0002373061935941223 0.031096883490681647\n",
            "77 0.16364645799967548 0.11390538904815913\n",
            "78 0.7927266090000558 0.00022239587080548516 0.0311010105535388\n",
            "78 0.15819473500005188 0.2390626274049282\n",
            "79 0.7872108859996843 0.002226851713494398 0.08779434606432915\n",
            "79 0.1621659800002817 0.1773368276655674\n",
            "80 0.7857287100000576 0.0003385877631808398 0.03531973980367184\n",
            "80 0.16197885300016424 0.10533757749944925\n",
            "81 0.7821131030000288 0.0002191487692471128 0.030609239563345908\n",
            "81 0.15429503399991518 0.11318749599158764\n",
            "82 0.783447686999807 0.0002936196117661893 0.03440240103751421\n",
            "82 0.16637702000025456 0.11871850863099098\n",
            "83 0.7889027189999069 0.00022820481986855157 0.03180733032524586\n",
            "83 0.16579318300000523 0.09942486081272364\n",
            "84 0.7861681659996975 0.0011063434589596 0.06662243124097586\n",
            "84 0.16753127700030745 0.20220073834061622\n",
            "85 0.7841154440002356 0.0004032653408648912 0.03902693502604961\n",
            "85 0.1598481239998364 0.11913834288716316\n",
            "86 0.7854972239997551 0.0010633290707482957 0.0666580905020237\n",
            "86 0.15832226300017282 0.1817343320697546\n",
            "87 0.7964032969998698 0.00037801922284415925 0.036989576332271096\n",
            "87 0.16145633599990106 0.10877589546144009\n",
            "88 0.7913151900002049 0.0003266750942566432 0.038145642057061196\n",
            "88 0.16442132799966203 0.12910659648478032\n",
            "89 0.8202088819998608 0.0007991691879578866 0.05015225276350975\n",
            "89 0.17081812200012791 0.3058122046291828\n",
            "90 0.8297234970000318 0.004800192643888295 0.1280726397037506\n",
            "90 0.17592824800021845 0.19823816120624543\n",
            "91 0.8344062750002195 0.0009078889184456784 0.05691241651773453\n",
            "91 0.17289446099994166 0.3199903294444084\n",
            "92 0.8338079740001376 0.0013147659224341623 0.07358324855566024\n",
            "92 0.18153894999977638 0.15225483998656272\n",
            "93 0.8206606460003059 0.0002690075234568212 0.033316163271665575\n",
            "93 0.15845465199981845 0.10466026775538921\n",
            "94 0.7856846829999995 0.0002502875347272493 0.031632404625415805\n",
            "94 0.1606835340003272 0.10292871687561274\n",
            "95 0.7873590059998605 0.00025671042618341744 0.031528155580163\n",
            "95 0.1612720750003973 0.10197848416864871\n",
            "96 0.7876892190001854 0.0002513027242093813 0.032161393240094184\n",
            "96 0.16207284199981586 0.11094258762896061\n",
            "97 0.7930531239999254 0.0006658969566342421 0.05175940535962582\n",
            "97 0.1546629600002234 0.17860437072813512\n",
            "98 0.7872693029999027 0.00040175936243031174 0.04227339096367359\n",
            "98 0.1629300200002035 0.12293459214270115\n",
            "99 0.7969434550000187 0.0009043937221576926 0.05795242182910442\n",
            "99 0.15873282199981986 0.22031519263982774\n",
            "100 0.7896634489998178 0.0010444236837793143 0.06428558520972728\n",
            "100 0.15507766700011416 0.1382182389497757\n"
          ]
        }
      ]
    },
    {
      "cell_type": "code",
      "source": [
        "test_l2"
      ],
      "metadata": {
        "colab": {
          "base_uri": "https://localhost:8080/"
        },
        "id": "4feEWpwzjoUP",
        "outputId": "cb1280dc-c21f-4463-d2d1-03eb34ea1cd6"
      },
      "execution_count": 67,
      "outputs": [
        {
          "output_type": "execute_result",
          "data": {
            "text/plain": [
              "0.6910911947488785"
            ]
          },
          "metadata": {},
          "execution_count": 67
        }
      ]
    },
    {
      "cell_type": "code",
      "source": [
        "plt.plot(np.array((ttrain)))\n",
        "plt.yscale('log')\n",
        "plt.xlabel('Epoch')\n",
        "plt.ylabel('L2 Loss')\n",
        "\n",
        "plt.title('Training loss of GKN')"
      ],
      "metadata": {
        "colab": {
          "base_uri": "https://localhost:8080/",
          "height": 312
        },
        "id": "OfBmhHN6VBGm",
        "outputId": "d31f0291-fef6-40d2-f955-96c0bf82570b"
      },
      "execution_count": 88,
      "outputs": [
        {
          "output_type": "execute_result",
          "data": {
            "text/plain": [
              "Text(0.5, 1.0, 'Training loss of GKN')"
            ]
          },
          "metadata": {},
          "execution_count": 88
        },
        {
          "output_type": "display_data",
          "data": {
            "text/plain": [
              "<Figure size 432x288 with 1 Axes>"
            ],
            "image/png": "[encoded data removed]"
          },
          "metadata": {
            "needs_background": "light"
          }
        }
      ]
    },
    {
      "cell_type": "code",
      "source": [
        "plt.plot(np.array((ttest)))\n",
        "plt.yscale('log')\n",
        "plt.xlabel('Epoch')\n",
        "plt.ylabel('L2 Loss')\n",
        "plt.title('Testing loss of GKN')"
      ],
      "metadata": {
        "colab": {
          "base_uri": "https://localhost:8080/",
          "height": 312
        },
        "id": "fXOQxg-agARz",
        "outputId": "0ebf9a3e-30b8-434b-f04c-82973a35a815"
      },
      "execution_count": 87,
      "outputs": [
        {
          "output_type": "execute_result",
          "data": {
            "text/plain": [
              "Text(0.5, 1.0, 'Testing loss of GKN')"
            ]
          },
          "metadata": {},
          "execution_count": 87
        },
        {
          "output_type": "display_data",
          "data": {
            "text/plain": [
              "<Figure size 432x288 with 1 Axes>"
            ],
            "image/png": "[encoded data removed]"
          },
          "metadata": {
            "needs_background": "light"
          }
        }
      ]
    },
    {
      "cell_type": "code",
      "source": [
        "result = SCA_data.generator1()\n",
        "result = SCA_data.normalizer(result)"
      ],
      "metadata": {
        "id": "Lz_i6Wx-jPoH"
      },
      "execution_count": 123,
      "outputs": []
    },
    {
      "cell_type": "code",
      "source": [
        "data_vali=[]\n",
        "j = 0\n",
        "grid = result[j][0,:]\n",
        "input = result[j][1,:]\n",
        "output = result[j][2,:]\n",
        "meshgenerator = SCAMeshGenerator(grid, input, output)\n",
        "grid = meshgenerator.get_grid()\n",
        "input = meshgenerator.get_input()\n",
        "output = meshgenerator.get_output()\n",
        "\n",
        "edge_index = meshgenerator.ball_connectivity(2)\n",
        "print(grid.size())\n",
        "print(edge_index.size())\n",
        "\n",
        "edge_attr = meshgenerator.attributes(theta = input)\n",
        "print(edge_attr.size())\n",
        "# data_train.append(Data(x=init_point.clone().view(-1,1), y=train_y[j,:], edge_index=edge_index, edge_attr=edge_attr))\n",
        "data_vali.append(Data(x=torch.cat([grid.reshape(-1, 1), input.reshape(-1, 1)], dim=1),X=grid, y=output, edge_index=edge_index, edge_attr=edge_attr))\n",
        "\n",
        "train_vali = DataLoader(data_vali, batch_size=batch_size, shuffle=True)"
      ],
      "metadata": {
        "colab": {
          "base_uri": "https://localhost:8080/"
        },
        "id": "7QZCbFJvjlNU",
        "outputId": "f47a4297-7ac2-4f1a-b59e-474e2efdee4c"
      },
      "execution_count": 124,
      "outputs": [
        {
          "output_type": "stream",
          "name": "stdout",
          "text": [
            "torch.Size([300, 1])\n",
            "torch.Size([2, 32537])\n",
            "torch.Size([32537, 4])\n"
          ]
        },
        {
          "output_type": "stream",
          "name": "stderr",
          "text": [
            "/usr/local/lib/python3.7/dist-packages/torch_geometric/deprecation.py:12: UserWarning: 'data.DataLoader' is deprecated, use 'loader.DataLoader' instead\n",
            "  warnings.warn(out)\n"
          ]
        }
      ]
    },
    {
      "cell_type": "code",
      "source": [
        "with torch.no_grad():\n",
        "      for batch in train_vali:\n",
        "          batch = batch.to(device)\n",
        "          out = model(batch).detach().cpu()\n",
        "          pred = batch.y.view(batch_size, -1).cpu()\n",
        "out = out.numpy()\n",
        "pred = pred.numpy()\n",
        "pred = pred.flatten()\n",
        "coor = batch.X.view(batch_size, -1).cpu().numpy().reshape(-1,1)\n",
        "plt.step(coor, out*0.2, label = 'Prediction') #assume amplitude 0.2\n",
        "plt.step(coor, pred*0.2, label = 'SCA')\n",
        "plt.xlabel('Coorinate')\n",
        "plt.ylabel('Strain')\n",
        "plt.title('Comparison of SCA and GKN result')\n",
        "plt.legend()"
      ],
      "metadata": {
        "colab": {
          "base_uri": "https://localhost:8080/",
          "height": 312
        },
        "id": "by4sRy76jO0y",
        "outputId": "f98d1a65-2bba-46ab-81c3-167af117aa36"
      },
      "execution_count": 125,
      "outputs": [
        {
          "output_type": "execute_result",
          "data": {
            "text/plain": [
              "<matplotlib.legend.Legend at 0x7f8d05c1c250>"
            ]
          },
          "metadata": {},
          "execution_count": 125
        },
        {
          "output_type": "display_data",
          "data": {
            "text/plain": [
              "<Figure size 432x288 with 1 Axes>"
            ],
            "image/png": "[encoded data removed]"
          },
          "metadata": {
            "needs_background": "light"
          }
        }
      ]
    },
    {
      "cell_type": "code",
      "source": [],
      "metadata": {
        "colab": {
          "base_uri": "https://localhost:8080/"
        },
        "id": "i-TU3lRMi3g3",
        "outputId": "c24a9409-0b8d-4297-b520-08e8c6d4c935"
      },
      "execution_count": 102,
      "outputs": [
        {
          "output_type": "execute_result",
          "data": {
            "text/plain": [
              "tensor([[0.6250, 1.8750, 3.1250, 4.3750, 5.6250, 6.8750, 8.1250, 9.3750]])"
            ]
          },
          "metadata": {},
          "execution_count": 102
        }
      ]
    }
  ]
}